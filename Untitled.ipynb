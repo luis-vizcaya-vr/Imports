{
 "cells": [
  {
   "cell_type": "code",
   "execution_count": 2,
   "metadata": {},
   "outputs": [],
   "source": [
    "from sklearn.model_selection import train_test_split\n",
    "from sklearn.linear_model import LinearRegression\n",
    "import pandas as pd\n",
    "import numpy as np\n",
    "from sklearn.metrics import r2_score\n",
    "import matplotlib.pyplot as plt\n",
    "from statsmodels.tsa.stattools import acf, pacf\n",
    "from scipy import stats\n",
    "from statsmodels.tsa.statespace.sarimax import SARIMAX\n",
    "from statsmodels.graphics.tsaplots import plot_acf\n"
   ]
  },
  {
   "cell_type": "code",
   "execution_count": 3,
   "metadata": {},
   "outputs": [],
   "source": [
    "DATA_RAW = pd.read_csv('Import_Data_daily.csv')\n",
    "DATA_HOURLY = pd.read_csv('Import_Data_V5.csv')\n",
    "DATA_RAW.dropna(inplace=True)\n",
    "DATA_RAW.reset_index()\n",
    "AVG2 = pd.DataFrame()\n",
    "STD2 = pd.DataFrame()\n",
    "AVGS_HOURLY = DATA_HOURLY.groupby(['DayOfWeek','Hour']).mean()                   #calculating average for each hour \n",
    "AVGS_HOURLY.reset_index(inplace=True)                                            #reset the index\n",
    "STDVS_HOURLY = DATA_HOURLY.groupby(['DayOfWeek','Hour']).std()                   #calculating std for each hour\n",
    "STDVS_HOURLY.reset_index(inplace=True)   \n",
    "imp = DATA_RAW['IMPORT-PJM']\n",
    "MIN_MAE = 50000\n",
    "train_len = int(len(imp))"
   ]
  },
  {
   "cell_type": "code",
   "execution_count": null,
   "metadata": {},
   "outputs": [],
   "source": []
  }
 ],
 "metadata": {
  "kernelspec": {
   "display_name": "Python 3",
   "language": "python",
   "name": "python3"
  },
  "language_info": {
   "codemirror_mode": {
    "name": "ipython",
    "version": 3
   },
   "file_extension": ".py",
   "mimetype": "text/x-python",
   "name": "python",
   "nbconvert_exporter": "python",
   "pygments_lexer": "ipython3",
   "version": "3.7.3"
  }
 },
 "nbformat": 4,
 "nbformat_minor": 2
}
