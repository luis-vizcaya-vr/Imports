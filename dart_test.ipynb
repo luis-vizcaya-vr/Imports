{
  "nbformat": 4,
  "nbformat_minor": 0,
  "metadata": {
    "colab": {
      "name": "dart-test.ipynb",
      "private_outputs": true,
      "provenance": [],
      "collapsed_sections": [],
      "authorship_tag": "ABX9TyNGkA1LtSy4b5BfskCPiOA9",
      "include_colab_link": true
    },
    "kernelspec": {
      "name": "python3",
      "display_name": "Python 3"
    },
    "language_info": {
      "name": "python"
    }
  },
  "cells": [
    {
      "cell_type": "markdown",
      "metadata": {
        "id": "view-in-github",
        "colab_type": "text"
      },
      "source": [
        "<a href=\"https://colab.research.google.com/github/luis-vizcaya-vr/Imports/blob/Features-LR/dart_test.ipynb\" target=\"_parent\"><img src=\"https://colab.research.google.com/assets/colab-badge.svg\" alt=\"Open In Colab\"/></a>"
      ]
    },
    {
      "cell_type": "code",
      "execution_count": null,
      "metadata": {
        "id": "p-Rk-Kb9dNNk"
      },
      "outputs": [],
      "source": [
        "!pip install darts\n",
        "!pip install pyyaml==5.4.1\n",
        "!pip install matplotlib==3.1.3"
      ]
    },
    {
      "cell_type": "code",
      "source": [
        "import pandas as pd\n",
        "from darts import TimeSeries\n",
        "import matplotlib.pyplot as plt\n",
        "import darts as drt\n",
        "FORECAST_PERIOD = 14\n",
        "\n",
        "df = pd.read_csv('natgas.csv', usecols= [0,1])\n",
        "df['Date1'] = pd.date_range(start='9/1/2021', end = '02/22/2022', freq='D')\n",
        "\n",
        "series = TimeSeries.from_dataframe(df, time_col = 'Date1',  value_cols ='NatGas - Transco Z6 Non-NY', freq = 'd', fill_missing_dates = True)\n",
        "train, val = series[:-FORECAST_PERIOD], series[-FORECAST_PERIOD:]\n",
        "\n",
        "def eval_model(model,train):\n",
        "  res = {}\n",
        "  print('Running: ', model)\n",
        "  model.fit(train)\n",
        "  forecast = model.predict(len(val))\n",
        "  #print(\"model {} obtains MAE: {:.2f}\".format(model, drt.metrics.metrics.mae(val, forecast)))\n",
        "  res['MAPE'] = drt.metrics.metrics.mape(val, forecast)\n",
        "  res['Forecast'] = forecast\n",
        "  return res\n",
        "\n",
        "def Best_model(model_list, train,metric = 'MAPE'):\n",
        "  Best = ''\n",
        "  Plot_Id = 100\n",
        "  results = {}\n",
        "  Max_Dev = float(\"Inf\")\n",
        "  for m in model_list:\n",
        "    r = eval_model(m,train)\n",
        "    Plot_Id += 1\n",
        "    print(metric,' :', r[metric])\n",
        "    if r[metric] < Max_Dev:\n",
        "      Max_Dev = r[metric]\n",
        "      results = r\n",
        "      results['Model'] = str(m)\n",
        "  return results\n",
        "\n",
        "\n"
      ],
      "metadata": {
        "id": "63CJwpx9dcHj"
      },
      "execution_count": null,
      "outputs": []
    },
    {
      "cell_type": "code",
      "source": [
        "from darts.models import *\n",
        "\n",
        "model_list = [ExponentialSmoothing(),FFT(),ARIMA(),AutoARIMA(),KalmanForecaster()]\n",
        "a = Best_model(model_list, train)\n",
        "print('Best Model: ', a['Model'])\n",
        "a['Forecast'].plot()\n",
        "val.plot()\n",
        "train.plot()\n",
        "\n",
        "\n",
        "'''\n",
        "model.fit(train)\n",
        "prediction = model.predict(len(val), num_samples=1)\n",
        "series.plot()\n",
        "#prediction.plot(label='forecast', low_quantile=0.1, high_quantile=0.9)\n",
        "prediction.plot(label='forecast')\n",
        "plt.legend()\n",
        "print(drt.metrics.metrics.mae(val, prediction))\n",
        "'''"
      ],
      "metadata": {
        "id": "JKIo7ES6h7Bc"
      },
      "execution_count": null,
      "outputs": []
    }
  ]
}