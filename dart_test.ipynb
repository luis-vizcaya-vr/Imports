{
  "nbformat": 4,
  "nbformat_minor": 0,
  "metadata": {
    "colab": {
      "name": "dart-test.ipynb",
      "private_outputs": true,
      "provenance": [],
      "collapsed_sections": [],
      "authorship_tag": "ABX9TyNJ7LZWvXng1o6IrG8umZNl",
      "include_colab_link": true
    },
    "kernelspec": {
      "name": "python3",
      "display_name": "Python 3"
    },
    "language_info": {
      "name": "python"
    }
  },
  "cells": [
    {
      "cell_type": "markdown",
      "metadata": {
        "id": "view-in-github",
        "colab_type": "text"
      },
      "source": [
        "<a href=\"https://colab.research.google.com/github/luis-vizcaya-vr/Imports/blob/Features-LR/dart_test.ipynb\" target=\"_parent\"><img src=\"https://colab.research.google.com/assets/colab-badge.svg\" alt=\"Open In Colab\"/></a>"
      ]
    },
    {
      "cell_type": "code",
      "execution_count": null,
      "metadata": {
        "id": "p-Rk-Kb9dNNk"
      },
      "outputs": [],
      "source": [
        "!pip install darts\n",
        "!pip install pyyaml==5.4.1"
      ]
    },
    {
      "cell_type": "code",
      "source": [
        "import pandas as pd\n",
        "from darts import TimeSeries\n",
        "import matplotlib.pyplot as plt\n",
        "import darts as drt\n",
        "\n",
        "df = pd.read_csv('NATGAS-DATA.csv', usecols= [0,1])\n",
        "#print(df)\n",
        "\n",
        "#df['Date1'] = pd.to_datetime(df['Date1'] )\n",
        "df['Date1'] = pd.date_range(start='9/1/2021', end = '02/21/2022', freq='D')\n",
        "\n",
        "#print(pd.date_range(start='1/9/2021', end = '20/01/2022', freq='D'))\n",
        "\n",
        "series = TimeSeries.from_dataframe(df, time_col = 'Date1',  value_cols ='NatGas - Transco Z6 Non-NY', freq = 'd', fill_missing_dates = True)\n",
        "train, val = series[:-7], series[-7:]\n",
        "\n",
        "def eval_model(model):\n",
        "    model.fit(train)\n",
        "    forecast = model.predict(len(val))\n",
        "    print(\"model {} obtains MAE: {:.2f}\".format(model, drt.metrics.metrics.mae(val, forecast)))\n",
        "    #plt.plot(val,forecast)"
      ],
      "metadata": {
        "id": "63CJwpx9dcHj"
      },
      "execution_count": null,
      "outputs": []
    },
    {
      "cell_type": "code",
      "source": [
        "#from darts.models import *\n",
        "\n",
        "model_list = [ExponentialSmoothing(),FFT(),ARIMA(),AutoARIMA(),Theta(),KalmanForecaster()]\n",
        "#model_list = [ExponentialSmoothing()]\n",
        "#model = ARIMA()\n",
        "#model = FFT()\n",
        "#model = KalmanForecaster()\n",
        "\n",
        "for m in model_list:\n",
        "  eval_model(m)\n",
        "\n",
        "'''\n",
        "model.fit(train)\n",
        "prediction = model.predict(len(val), num_samples=1)\n",
        "series.plot()\n",
        "#prediction.plot(label='forecast', low_quantile=0.1, high_quantile=0.9)\n",
        "prediction.plot(label='forecast')\n",
        "plt.legend()\n",
        "print(drt.metrics.metrics.mae(val, prediction))\n",
        "'''"
      ],
      "metadata": {
        "id": "JKIo7ES6h7Bc"
      },
      "execution_count": null,
      "outputs": []
    }
  ]
}